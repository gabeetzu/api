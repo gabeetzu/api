{
  "cells": [
    {
      "source": [
        "[![Kaggle](https://kaggle.com/static/images/open-in-kaggle.svg)](https://www.kaggle.com/rishitdagli/identify-plant-diseases-tensorflow)"
      ],
      "cell_type": "markdown",
      "metadata": {
        "id": "9aP7URjZ7t9m"
      },
      "id": "9aP7URjZ7t9m"
    },
    {
      "cell_type": "code",
      "execution_count": 1,
      "id": "fallen-american",
      "metadata": {
        "execution": {
          "iopub.execute_input": "2021-04-01T04:07:07.220545Z",
          "iopub.status.busy": "2021-04-01T04:07:07.219113Z",
          "iopub.status.idle": "2021-04-01T04:07:08.449418Z",
          "shell.execute_reply": "2021-04-01T04:07:08.449952Z"
        },
        "papermill": {
          "duration": 1.249086,
          "end_time": "2021-04-01T04:07:08.450201",
          "exception": false,
          "start_time": "2021-04-01T04:07:07.201115",
          "status": "completed"
        },
        "tags": [],
        "id": "fallen-american",
        "outputId": "afa3496f-0d90-44f8-c838-25b9e73b49e6",
        "colab": {
          "base_uri": "https://localhost:8080/"
        }
      },
      "outputs": [
        {
          "output_type": "stream",
          "name": "stdout",
          "text": [
            "Mon Jun  9 13:44:37 2025       \n",
            "+-----------------------------------------------------------------------------------------+\n",
            "| NVIDIA-SMI 550.54.15              Driver Version: 550.54.15      CUDA Version: 12.4     |\n",
            "|-----------------------------------------+------------------------+----------------------+\n",
            "| GPU  Name                 Persistence-M | Bus-Id          Disp.A | Volatile Uncorr. ECC |\n",
            "| Fan  Temp   Perf          Pwr:Usage/Cap |           Memory-Usage | GPU-Util  Compute M. |\n",
            "|                                         |                        |               MIG M. |\n",
            "|=========================================+========================+======================|\n",
            "|   0  Tesla T4                       Off |   00000000:00:04.0 Off |                    0 |\n",
            "| N/A   42C    P8              9W /   70W |       0MiB /  15360MiB |      0%      Default |\n",
            "|                                         |                        |                  N/A |\n",
            "+-----------------------------------------+------------------------+----------------------+\n",
            "                                                                                         \n",
            "+-----------------------------------------------------------------------------------------+\n",
            "| Processes:                                                                              |\n",
            "|  GPU   GI   CI        PID   Type   Process name                              GPU Memory |\n",
            "|        ID   ID                                                               Usage      |\n",
            "|=========================================================================================|\n",
            "|  No running processes found                                                             |\n",
            "+-----------------------------------------------------------------------------------------+\n"
          ]
        }
      ],
      "source": [
        "!nvidia-smi"
      ]
    },
    {
      "cell_type": "markdown",
      "id": "original-somewhere",
      "metadata": {
        "papermill": {
          "duration": 0.013273,
          "end_time": "2021-04-01T04:07:08.478164",
          "exception": false,
          "start_time": "2021-04-01T04:07:08.464891",
          "status": "completed"
        },
        "tags": [],
        "id": "original-somewhere"
      },
      "source": [
        "# Identify Plant Diseases\n",
        "\n",
        "We use the PlantVillage dataset [1] by Hughes et al. consists of about 87,000 healthy and unhealthy leaf images divided into 38 categories by species and disease. Here we provide a subset of our experiments on working with this data. We also end up transfer learning from MobileNet and use the weights from pre-training on ImageNet.\n",
        "\n",
        "* ![PlantVillage Dataset Samples](https://i.imgur.com/Zcxdrlc.png)\n",
        "Figure 1. PlantVillage Dataset Samples\n",
        "\n",
        "## Classes\n",
        "\n",
        "The following 38 classes are availaible in the dataset\n",
        "\n",
        "- `Apple___Apple_scab`\n",
        "- `Apple___Black_rot`\n",
        "- `Apple___Cedar_apple_rust`\n",
        "- `Apple___healthy`\n",
        "- `Blueberry___healthy`\n",
        "- `Cherry_(including_sour)___Powdery_mildew`\n",
        "- `Cherry_(including_sour)___healthy`\n",
        "- `Corn_(maize)___Cercospora_leaf_spot Gray_leaf_spot`\n",
        "- `Corn_(maize)___Common_rust_`\n",
        "- `Corn_(maize)___Northern_Leaf_Blight`\n",
        "- `Corn_(maize)___healthy', 'Grape___Black_rot`\n",
        "- `Grape___Leaf_blight_(Isariopsis_Leaf_Spot)`\n",
        "- `Grape___healthy`\n",
        "- `Orange___Haunglongbing_(Citrus_greening)`\n",
        "- `Peach___Bacterial_spot`\n",
        "- `Peach___healthy`\n",
        "- `Pepper,_bell___Bacterial_spot`\n",
        "- `Pepper,_bell___healthy`\n",
        "- `Potato___Early_blight`\n",
        "- `Potato___Late_blight`\n",
        "- `Potato___healthy`\n",
        "- `Raspberry___healthy`\n",
        "- `Soybean___healthy`\n",
        "- `Squash___Powdery_mildew`\n",
        "- `Strawberry___Leaf_scorch`\n",
        "- `Strawberry___healthy`\n",
        "- `Tomato___Bacterial_spot`\n",
        "- `Tomato___Late_blight`\n",
        "- `Tomato___Leaf_Mold`\n",
        "- `Tomato___Septoria_leaf_spot`\n",
        "- `Tomato___Spider_mites Two-spotted_spider_mite`\n",
        "- `Tomato___Target_Spot`\n",
        "- `Tomato___Tomato_Yellow_Leaf_Curl_Virus`\n",
        "- `Tomato___Tomato_mosaic_virus`\n",
        "- `Tomato___healthy`\n",
        "\n",
        "## References\n",
        "\n",
        "[1] Hughes, David P., and Marcel Salathe. “An Open Access Repository of Images on Plant Health to Enable the Development of Mobile Disease Diagnostics.” ArXiv:1511.08060 [Cs], Apr. 2016. arXiv.org, http://arxiv.org/abs/1511.08060.\n",
        "\n",
        "[2] Howard, Andrew G., et al. “MobileNets: Efficient Convolutional Neural Networks for Mobile Vision Applications.” ArXiv:1704.04861 [Cs], Apr. 2017. arXiv.org, http://arxiv.org/abs/1704.04861.\n"
      ]
    },
    {
      "cell_type": "markdown",
      "id": "mediterranean-chicken",
      "metadata": {
        "papermill": {
          "duration": 0.013228,
          "end_time": "2021-04-01T04:07:08.504993",
          "exception": false,
          "start_time": "2021-04-01T04:07:08.491765",
          "status": "completed"
        },
        "tags": [],
        "id": "mediterranean-chicken"
      },
      "source": [
        "## Setup"
      ]
    },
    {
      "cell_type": "code",
      "execution_count": 2,
      "id": "incredible-sarah",
      "metadata": {
        "execution": {
          "iopub.execute_input": "2021-04-01T04:07:08.536476Z",
          "iopub.status.busy": "2021-04-01T04:07:08.535876Z",
          "iopub.status.idle": "2021-04-01T04:07:13.362376Z",
          "shell.execute_reply": "2021-04-01T04:07:13.361254Z"
        },
        "papermill": {
          "duration": 4.844146,
          "end_time": "2021-04-01T04:07:13.362549",
          "exception": false,
          "start_time": "2021-04-01T04:07:08.518403",
          "status": "completed"
        },
        "tags": [],
        "id": "incredible-sarah"
      },
      "outputs": [],
      "source": [
        "import tensorflow as tf\n",
        "from tensorflow import keras\n",
        "\n",
        "import matplotlib.pyplot as plt\n",
        "import numpy as np\n",
        "\n",
        "import os"
      ]
    },
    {
      "cell_type": "code",
      "execution_count": 3,
      "id": "comfortable-smart",
      "metadata": {
        "execution": {
          "iopub.execute_input": "2021-04-01T04:07:13.395984Z",
          "iopub.status.busy": "2021-04-01T04:07:13.394228Z",
          "iopub.status.idle": "2021-04-01T04:07:13.396556Z",
          "shell.execute_reply": "2021-04-01T04:07:13.396943Z"
        },
        "papermill": {
          "duration": 0.020743,
          "end_time": "2021-04-01T04:07:13.397075",
          "exception": false,
          "start_time": "2021-04-01T04:07:13.376332",
          "status": "completed"
        },
        "tags": [],
        "id": "comfortable-smart"
      },
      "outputs": [],
      "source": [
        "image_size = 224\n",
        "target_size = (image_size, image_size)\n",
        "input_shape = (image_size, image_size, 3)\n",
        "\n",
        "batch_size = 32\n",
        "epochs = 25"
      ]
    },
    {
      "cell_type": "markdown",
      "id": "musical-approval",
      "metadata": {
        "papermill": {
          "duration": 0.014668,
          "end_time": "2021-04-01T04:07:13.425337",
          "exception": false,
          "start_time": "2021-04-01T04:07:13.410669",
          "status": "completed"
        },
        "tags": [],
        "id": "musical-approval"
      },
      "source": [
        "## Get data\n",
        "\n",
        "In order to make the most of our few training examples, we will \"augment\" them via a number of random transformations, so that our model would never see twice the exact same picture. This helps prevent overfitting and helps the model generalize better.\n",
        "\n",
        "In TensorFlow this can be done via the `tf.keras.preprocessing.image.ImageDataGenerator` class. This class allows you to:\n",
        "\n",
        "- configure random transformations and normalization operations to be done on your image data during training\n",
        "- instantiate generators of augmented image batches (and their labels) via `.flow(data, labels)` or `.flow_from_directory(directory)`. These generators can then be used with the `tf.keras` model methods that accept data generators as inputs, `fit`, `evaluate` and `predict`."
      ]
    },
    {
      "cell_type": "code",
      "source": [
        "from google.colab import files\n",
        "files.upload()  # upload kaggle.json manually\n"
      ],
      "metadata": {
        "id": "oGmHCFNy8iFY",
        "outputId": "f51ef340-646a-4569-b4c1-12f6b3fe74e2",
        "colab": {
          "base_uri": "https://localhost:8080/",
          "height": 89
        }
      },
      "id": "oGmHCFNy8iFY",
      "execution_count": 7,
      "outputs": [
        {
          "output_type": "display_data",
          "data": {
            "text/plain": [
              "<IPython.core.display.HTML object>"
            ],
            "text/html": [
              "\n",
              "     <input type=\"file\" id=\"files-1bb56327-d93c-4796-97c9-0fe317d59d72\" name=\"files[]\" multiple disabled\n",
              "        style=\"border:none\" />\n",
              "     <output id=\"result-1bb56327-d93c-4796-97c9-0fe317d59d72\">\n",
              "      Upload widget is only available when the cell has been executed in the\n",
              "      current browser session. Please rerun this cell to enable.\n",
              "      </output>\n",
              "      <script>// Copyright 2017 Google LLC\n",
              "//\n",
              "// Licensed under the Apache License, Version 2.0 (the \"License\");\n",
              "// you may not use this file except in compliance with the License.\n",
              "// You may obtain a copy of the License at\n",
              "//\n",
              "//      http://www.apache.org/licenses/LICENSE-2.0\n",
              "//\n",
              "// Unless required by applicable law or agreed to in writing, software\n",
              "// distributed under the License is distributed on an \"AS IS\" BASIS,\n",
              "// WITHOUT WARRANTIES OR CONDITIONS OF ANY KIND, either express or implied.\n",
              "// See the License for the specific language governing permissions and\n",
              "// limitations under the License.\n",
              "\n",
              "/**\n",
              " * @fileoverview Helpers for google.colab Python module.\n",
              " */\n",
              "(function(scope) {\n",
              "function span(text, styleAttributes = {}) {\n",
              "  const element = document.createElement('span');\n",
              "  element.textContent = text;\n",
              "  for (const key of Object.keys(styleAttributes)) {\n",
              "    element.style[key] = styleAttributes[key];\n",
              "  }\n",
              "  return element;\n",
              "}\n",
              "\n",
              "// Max number of bytes which will be uploaded at a time.\n",
              "const MAX_PAYLOAD_SIZE = 100 * 1024;\n",
              "\n",
              "function _uploadFiles(inputId, outputId) {\n",
              "  const steps = uploadFilesStep(inputId, outputId);\n",
              "  const outputElement = document.getElementById(outputId);\n",
              "  // Cache steps on the outputElement to make it available for the next call\n",
              "  // to uploadFilesContinue from Python.\n",
              "  outputElement.steps = steps;\n",
              "\n",
              "  return _uploadFilesContinue(outputId);\n",
              "}\n",
              "\n",
              "// This is roughly an async generator (not supported in the browser yet),\n",
              "// where there are multiple asynchronous steps and the Python side is going\n",
              "// to poll for completion of each step.\n",
              "// This uses a Promise to block the python side on completion of each step,\n",
              "// then passes the result of the previous step as the input to the next step.\n",
              "function _uploadFilesContinue(outputId) {\n",
              "  const outputElement = document.getElementById(outputId);\n",
              "  const steps = outputElement.steps;\n",
              "\n",
              "  const next = steps.next(outputElement.lastPromiseValue);\n",
              "  return Promise.resolve(next.value.promise).then((value) => {\n",
              "    // Cache the last promise value to make it available to the next\n",
              "    // step of the generator.\n",
              "    outputElement.lastPromiseValue = value;\n",
              "    return next.value.response;\n",
              "  });\n",
              "}\n",
              "\n",
              "/**\n",
              " * Generator function which is called between each async step of the upload\n",
              " * process.\n",
              " * @param {string} inputId Element ID of the input file picker element.\n",
              " * @param {string} outputId Element ID of the output display.\n",
              " * @return {!Iterable<!Object>} Iterable of next steps.\n",
              " */\n",
              "function* uploadFilesStep(inputId, outputId) {\n",
              "  const inputElement = document.getElementById(inputId);\n",
              "  inputElement.disabled = false;\n",
              "\n",
              "  const outputElement = document.getElementById(outputId);\n",
              "  outputElement.innerHTML = '';\n",
              "\n",
              "  const pickedPromise = new Promise((resolve) => {\n",
              "    inputElement.addEventListener('change', (e) => {\n",
              "      resolve(e.target.files);\n",
              "    });\n",
              "  });\n",
              "\n",
              "  const cancel = document.createElement('button');\n",
              "  inputElement.parentElement.appendChild(cancel);\n",
              "  cancel.textContent = 'Cancel upload';\n",
              "  const cancelPromise = new Promise((resolve) => {\n",
              "    cancel.onclick = () => {\n",
              "      resolve(null);\n",
              "    };\n",
              "  });\n",
              "\n",
              "  // Wait for the user to pick the files.\n",
              "  const files = yield {\n",
              "    promise: Promise.race([pickedPromise, cancelPromise]),\n",
              "    response: {\n",
              "      action: 'starting',\n",
              "    }\n",
              "  };\n",
              "\n",
              "  cancel.remove();\n",
              "\n",
              "  // Disable the input element since further picks are not allowed.\n",
              "  inputElement.disabled = true;\n",
              "\n",
              "  if (!files) {\n",
              "    return {\n",
              "      response: {\n",
              "        action: 'complete',\n",
              "      }\n",
              "    };\n",
              "  }\n",
              "\n",
              "  for (const file of files) {\n",
              "    const li = document.createElement('li');\n",
              "    li.append(span(file.name, {fontWeight: 'bold'}));\n",
              "    li.append(span(\n",
              "        `(${file.type || 'n/a'}) - ${file.size} bytes, ` +\n",
              "        `last modified: ${\n",
              "            file.lastModifiedDate ? file.lastModifiedDate.toLocaleDateString() :\n",
              "                                    'n/a'} - `));\n",
              "    const percent = span('0% done');\n",
              "    li.appendChild(percent);\n",
              "\n",
              "    outputElement.appendChild(li);\n",
              "\n",
              "    const fileDataPromise = new Promise((resolve) => {\n",
              "      const reader = new FileReader();\n",
              "      reader.onload = (e) => {\n",
              "        resolve(e.target.result);\n",
              "      };\n",
              "      reader.readAsArrayBuffer(file);\n",
              "    });\n",
              "    // Wait for the data to be ready.\n",
              "    let fileData = yield {\n",
              "      promise: fileDataPromise,\n",
              "      response: {\n",
              "        action: 'continue',\n",
              "      }\n",
              "    };\n",
              "\n",
              "    // Use a chunked sending to avoid message size limits. See b/62115660.\n",
              "    let position = 0;\n",
              "    do {\n",
              "      const length = Math.min(fileData.byteLength - position, MAX_PAYLOAD_SIZE);\n",
              "      const chunk = new Uint8Array(fileData, position, length);\n",
              "      position += length;\n",
              "\n",
              "      const base64 = btoa(String.fromCharCode.apply(null, chunk));\n",
              "      yield {\n",
              "        response: {\n",
              "          action: 'append',\n",
              "          file: file.name,\n",
              "          data: base64,\n",
              "        },\n",
              "      };\n",
              "\n",
              "      let percentDone = fileData.byteLength === 0 ?\n",
              "          100 :\n",
              "          Math.round((position / fileData.byteLength) * 100);\n",
              "      percent.textContent = `${percentDone}% done`;\n",
              "\n",
              "    } while (position < fileData.byteLength);\n",
              "  }\n",
              "\n",
              "  // All done.\n",
              "  yield {\n",
              "    response: {\n",
              "      action: 'complete',\n",
              "    }\n",
              "  };\n",
              "}\n",
              "\n",
              "scope.google = scope.google || {};\n",
              "scope.google.colab = scope.google.colab || {};\n",
              "scope.google.colab._files = {\n",
              "  _uploadFiles,\n",
              "  _uploadFilesContinue,\n",
              "};\n",
              "})(self);\n",
              "</script> "
            ]
          },
          "metadata": {}
        },
        {
          "output_type": "stream",
          "name": "stdout",
          "text": [
            "Saving kaggle.json to kaggle.json\n"
          ]
        },
        {
          "output_type": "execute_result",
          "data": {
            "text/plain": [
              "{'kaggle.json': b'{\"username\":\"tommygunner\",\"key\":\"de84a267930933ac0b0726f682febc1e\"}'}"
            ]
          },
          "metadata": {},
          "execution_count": 7
        }
      ]
    },
    {
      "cell_type": "code",
      "source": [
        "!mkdir -p ~/.kaggle\n",
        "!mv kaggle.json ~/.kaggle/\n",
        "!chmod 600 ~/.kaggle/kaggle.json\n"
      ],
      "metadata": {
        "id": "8xsgawhn8l6U"
      },
      "id": "8xsgawhn8l6U",
      "execution_count": 8,
      "outputs": []
    },
    {
      "cell_type": "code",
      "source": [
        "!kaggle datasets download -d vipoooool/new-plant-diseases-dataset -p datasets/vipoooool --unzip\n"
      ],
      "metadata": {
        "id": "chFpDCic8pq6",
        "outputId": "500c79c9-7c2e-497c-e39e-8310f13bc5c9",
        "colab": {
          "base_uri": "https://localhost:8080/"
        }
      },
      "id": "chFpDCic8pq6",
      "execution_count": 9,
      "outputs": [
        {
          "output_type": "stream",
          "name": "stdout",
          "text": [
            "Dataset URL: https://www.kaggle.com/datasets/vipoooool/new-plant-diseases-dataset\n",
            "License(s): copyright-authors\n",
            "Downloading new-plant-diseases-dataset.zip to datasets/vipoooool\n",
            " 96% 2.58G/2.70G [00:07<00:00, 290MB/s]\n",
            "100% 2.70G/2.70G [00:07<00:00, 366MB/s]\n"
          ]
        }
      ]
    },
    {
      "cell_type": "code",
      "source": [
        "!mkdir -p /content/datasets/gospodapp_clean/train\n",
        "!mkdir -p /content/datasets/gospodapp_clean/valid\n",
        "\n",
        "# Move from the 1st path\n",
        "!mv \"/content/datasets/vipoooool/New Plant Diseases Dataset(Augmented)/New Plant Diseases Dataset(Augmented)/train\" /content/datasets/gospodapp_clean/\n",
        "!mv \"/content/datasets/vipoooool/New Plant Diseases Dataset(Augmented)/New Plant Diseases Dataset(Augmented)/valid\" /content/datasets/gospodapp_clean/\n"
      ],
      "metadata": {
        "id": "uhuWmkmK-n61"
      },
      "id": "uhuWmkmK-n61",
      "execution_count": 27,
      "outputs": []
    },
    {
      "cell_type": "code",
      "source": [
        "!rm -rf \"/content/datasets/vipoooool/New Plant Diseases Dataset(Augmented)\"\n",
        "!rm -rf \"/content/datasets/vipoooool/new plant diseases dataset(augmented)\"\n",
        "!rm -rf \"/content/datasets/vipoooool/test\"\n"
      ],
      "metadata": {
        "id": "es1qCscwABO7"
      },
      "id": "es1qCscwABO7",
      "execution_count": 28,
      "outputs": []
    },
    {
      "cell_type": "code",
      "execution_count": 29,
      "id": "inclusive-mobility",
      "metadata": {
        "execution": {
          "iopub.execute_input": "2021-04-01T04:07:13.458745Z",
          "iopub.status.busy": "2021-04-01T04:07:13.457024Z",
          "iopub.status.idle": "2021-04-01T04:07:13.459323Z",
          "shell.execute_reply": "2021-04-01T04:07:13.459723Z"
        },
        "papermill": {
          "duration": 0.020892,
          "end_time": "2021-04-01T04:07:13.459844",
          "exception": false,
          "start_time": "2021-04-01T04:07:13.438952",
          "status": "completed"
        },
        "tags": [],
        "id": "inclusive-mobility",
        "outputId": "506d4408-4bf5-45e9-9385-a34959ea8c3c",
        "colab": {
          "base_uri": "https://localhost:8080/"
        }
      },
      "outputs": [
        {
          "output_type": "stream",
          "name": "stdout",
          "text": [
            "Train: ['Potato___healthy', 'Pepper,_bell___healthy', 'Tomato___Spider_mites Two-spotted_spider_mite', 'Peach___healthy', 'Tomato___Tomato_mosaic_virus']\n",
            "Valid: ['Potato___healthy', 'Pepper,_bell___healthy', 'Tomato___Spider_mites Two-spotted_spider_mite', 'Peach___healthy', 'Tomato___Tomato_mosaic_virus']\n"
          ]
        }
      ],
      "source": [
        "base_dir = \"/content/datasets/gospodapp_clean\"\n",
        "train_dir = os.path.join(base_dir, \"train\")\n",
        "test_dir = os.path.join(base_dir, \"valid\")\n",
        "\n",
        "print(\"Train:\", os.listdir(train_dir)[:5])\n",
        "print(\"Valid:\", os.listdir(test_dir)[:5])\n"
      ]
    },
    {
      "cell_type": "markdown",
      "id": "ready-branch",
      "metadata": {
        "papermill": {
          "duration": 0.013558,
          "end_time": "2021-04-01T04:07:13.487266",
          "exception": false,
          "start_time": "2021-04-01T04:07:13.473708",
          "status": "completed"
        },
        "tags": [],
        "id": "ready-branch"
      },
      "source": [
        "We make the following augmentations to the images:\n",
        "\n",
        "- `width_shift` and `height_shift` are ranges (as a fraction of total width or height) within which to randomly translate pictures vertically or horizontally\n",
        "- `rescale` is a value by which we will multiply the data before any other processing. Our original images consist in RGB coefficients in the 0-255, but such values would be too high for our models to process (given a typical learning rate), so we target values between 0 and 1 instead by scaling with a 1/255. factor.\n",
        "- `shear_range` is for randomly applying shearing transformations\n",
        "- `zoom_range` is for randomly zooming inside pictures\n",
        "- `fill_mode` is the strategy used for filling in newly created pixels, which can appear after a rotation or a width/height shift."
      ]
    },
    {
      "cell_type": "code",
      "execution_count": 30,
      "id": "developmental-cable",
      "metadata": {
        "execution": {
          "iopub.execute_input": "2021-04-01T04:07:13.521236Z",
          "iopub.status.busy": "2021-04-01T04:07:13.519528Z",
          "iopub.status.idle": "2021-04-01T04:07:13.521833Z",
          "shell.execute_reply": "2021-04-01T04:07:13.522229Z"
        },
        "papermill": {
          "duration": 0.021313,
          "end_time": "2021-04-01T04:07:13.522351",
          "exception": false,
          "start_time": "2021-04-01T04:07:13.501038",
          "status": "completed"
        },
        "tags": [],
        "id": "developmental-cable"
      },
      "outputs": [],
      "source": [
        "train_datagen = keras.preprocessing.image.ImageDataGenerator(rescale = 1/255.0,\n",
        "                                                             shear_range = 0.2,\n",
        "                                                             zoom_range = 0.2,\n",
        "                                                             width_shift_range = 0.2,\n",
        "                                                             height_shift_range = 0.2,\n",
        "                                                             fill_mode=\"nearest\")\n",
        "\n",
        "test_datagen = keras.preprocessing.image.ImageDataGenerator(rescale = 1/255.0)"
      ]
    },
    {
      "cell_type": "markdown",
      "id": "normal-infection",
      "metadata": {
        "papermill": {
          "duration": 0.013653,
          "end_time": "2021-04-01T04:07:13.549901",
          "exception": false,
          "start_time": "2021-04-01T04:07:13.536248",
          "status": "completed"
        },
        "tags": [],
        "id": "normal-infection"
      },
      "source": [
        "Let's prepare our data. We will use `.flow_from_directory()` to generate batches of image data (and their labels) directly from our images in their respective folders."
      ]
    },
    {
      "cell_type": "code",
      "execution_count": 31,
      "id": "consecutive-lambda",
      "metadata": {
        "execution": {
          "iopub.execute_input": "2021-04-01T04:07:13.582905Z",
          "iopub.status.busy": "2021-04-01T04:07:13.582223Z",
          "iopub.status.idle": "2021-04-01T04:07:29.847704Z",
          "shell.execute_reply": "2021-04-01T04:07:29.847231Z"
        },
        "papermill": {
          "duration": 16.284083,
          "end_time": "2021-04-01T04:07:29.847846",
          "exception": false,
          "start_time": "2021-04-01T04:07:13.563763",
          "status": "completed"
        },
        "tags": [],
        "id": "consecutive-lambda",
        "outputId": "a9a52c1b-96b3-4e2b-cc68-90fd45c2fb80",
        "colab": {
          "base_uri": "https://localhost:8080/"
        }
      },
      "outputs": [
        {
          "output_type": "stream",
          "name": "stdout",
          "text": [
            "Found 70295 images belonging to 38 classes.\n",
            "Found 17572 images belonging to 38 classes.\n"
          ]
        }
      ],
      "source": [
        "train_data = train_datagen.flow_from_directory(train_dir,\n",
        "                                               target_size = (image_size, image_size),\n",
        "                                               batch_size = batch_size,\n",
        "                                               class_mode = \"categorical\")\n",
        "\n",
        "test_data = test_datagen.flow_from_directory(test_dir,\n",
        "                                             target_size = (image_size, image_size),\n",
        "                                             batch_size = batch_size,\n",
        "                                             class_mode = \"categorical\")"
      ]
    },
    {
      "cell_type": "markdown",
      "id": "other-beach",
      "metadata": {
        "papermill": {
          "duration": 0.015093,
          "end_time": "2021-04-01T04:07:29.877769",
          "exception": false,
          "start_time": "2021-04-01T04:07:29.862676",
          "status": "completed"
        },
        "tags": [],
        "id": "other-beach"
      },
      "source": [
        "## Create a classes index file\n",
        "\n",
        "We also want to know which class corresponds to which species and disease so we also create a `json` file which shows corresponding labels and class indices."
      ]
    },
    {
      "cell_type": "code",
      "execution_count": 32,
      "id": "animated-growing",
      "metadata": {
        "execution": {
          "iopub.execute_input": "2021-04-01T04:07:29.911693Z",
          "iopub.status.busy": "2021-04-01T04:07:29.910987Z",
          "iopub.status.idle": "2021-04-01T04:07:29.914191Z",
          "shell.execute_reply": "2021-04-01T04:07:29.914622Z"
        },
        "papermill": {
          "duration": 0.022425,
          "end_time": "2021-04-01T04:07:29.914749",
          "exception": false,
          "start_time": "2021-04-01T04:07:29.892324",
          "status": "completed"
        },
        "tags": [],
        "id": "animated-growing",
        "outputId": "c61e5b8d-2fad-499b-9755-e1ca1d805e50",
        "colab": {
          "base_uri": "https://localhost:8080/"
        }
      },
      "outputs": [
        {
          "output_type": "stream",
          "name": "stdout",
          "text": [
            "{'Apple___Apple_scab': 0, 'Apple___Black_rot': 1, 'Apple___Cedar_apple_rust': 2, 'Apple___healthy': 3, 'Blueberry___healthy': 4, 'Cherry_(including_sour)___Powdery_mildew': 5, 'Cherry_(including_sour)___healthy': 6, 'Corn_(maize)___Cercospora_leaf_spot Gray_leaf_spot': 7, 'Corn_(maize)___Common_rust_': 8, 'Corn_(maize)___Northern_Leaf_Blight': 9, 'Corn_(maize)___healthy': 10, 'Grape___Black_rot': 11, 'Grape___Esca_(Black_Measles)': 12, 'Grape___Leaf_blight_(Isariopsis_Leaf_Spot)': 13, 'Grape___healthy': 14, 'Orange___Haunglongbing_(Citrus_greening)': 15, 'Peach___Bacterial_spot': 16, 'Peach___healthy': 17, 'Pepper,_bell___Bacterial_spot': 18, 'Pepper,_bell___healthy': 19, 'Potato___Early_blight': 20, 'Potato___Late_blight': 21, 'Potato___healthy': 22, 'Raspberry___healthy': 23, 'Soybean___healthy': 24, 'Squash___Powdery_mildew': 25, 'Strawberry___Leaf_scorch': 26, 'Strawberry___healthy': 27, 'Tomato___Bacterial_spot': 28, 'Tomato___Early_blight': 29, 'Tomato___Late_blight': 30, 'Tomato___Leaf_Mold': 31, 'Tomato___Septoria_leaf_spot': 32, 'Tomato___Spider_mites Two-spotted_spider_mite': 33, 'Tomato___Target_Spot': 34, 'Tomato___Tomato_Yellow_Leaf_Curl_Virus': 35, 'Tomato___Tomato_mosaic_virus': 36, 'Tomato___healthy': 37}\n"
          ]
        }
      ],
      "source": [
        "categories = list(train_data.class_indices.keys())\n",
        "print(train_data.class_indices)"
      ]
    },
    {
      "cell_type": "code",
      "execution_count": 33,
      "id": "educational-enough",
      "metadata": {
        "execution": {
          "iopub.execute_input": "2021-04-01T04:07:29.949797Z",
          "iopub.status.busy": "2021-04-01T04:07:29.949011Z",
          "iopub.status.idle": "2021-04-01T04:07:29.955775Z",
          "shell.execute_reply": "2021-04-01T04:07:29.956221Z"
        },
        "papermill": {
          "duration": 0.026623,
          "end_time": "2021-04-01T04:07:29.956345",
          "exception": false,
          "start_time": "2021-04-01T04:07:29.929722",
          "status": "completed"
        },
        "tags": [],
        "id": "educational-enough",
        "outputId": "9decfb5d-0245-4e54-cfbf-2c910421d3dc",
        "colab": {
          "base_uri": "https://localhost:8080/",
          "height": 34
        }
      },
      "outputs": [
        {
          "output_type": "execute_result",
          "data": {
            "text/plain": [
              "/content/class_indices.json"
            ],
            "text/html": [
              "<a href='class_indices.json' target='_blank'>class_indices.json</a><br>"
            ]
          },
          "metadata": {},
          "execution_count": 33
        }
      ],
      "source": [
        "import json\n",
        "with open('class_indices.json','w') as f:\n",
        "  json.dump(train_data.class_indices, f)\n",
        "\n",
        "from IPython.display import FileLink\n",
        "FileLink(r'class_indices.json')"
      ]
    },
    {
      "cell_type": "markdown",
      "id": "broad-designer",
      "metadata": {
        "papermill": {
          "duration": 0.015625,
          "end_time": "2021-04-01T04:07:29.987400",
          "exception": false,
          "start_time": "2021-04-01T04:07:29.971775",
          "status": "completed"
        },
        "tags": [],
        "id": "broad-designer"
      },
      "source": [
        "## Training\n",
        "\n",
        "We first get the base MobileNet model without including the top layers since we want to use it for 38 classes and us the pre-trained weights for ImageNet."
      ]
    },
    {
      "cell_type": "code",
      "execution_count": 34,
      "id": "minimal-restriction",
      "metadata": {
        "execution": {
          "iopub.execute_input": "2021-04-01T04:07:30.025597Z",
          "iopub.status.busy": "2021-04-01T04:07:30.025088Z",
          "iopub.status.idle": "2021-04-01T04:07:34.002415Z",
          "shell.execute_reply": "2021-04-01T04:07:34.002880Z"
        },
        "papermill": {
          "duration": 4.000172,
          "end_time": "2021-04-01T04:07:34.003053",
          "exception": false,
          "start_time": "2021-04-01T04:07:30.002881",
          "status": "completed"
        },
        "tags": [],
        "id": "minimal-restriction",
        "outputId": "fb6ca00e-b0b6-4dc3-b921-1788489476dc",
        "colab": {
          "base_uri": "https://localhost:8080/"
        }
      },
      "outputs": [
        {
          "output_type": "stream",
          "name": "stdout",
          "text": [
            "Downloading data from https://storage.googleapis.com/tensorflow/keras-applications/mobilenet/mobilenet_1_0_224_tf_no_top.h5\n",
            "\u001b[1m17225924/17225924\u001b[0m \u001b[32m━━━━━━━━━━━━━━━━━━━━\u001b[0m\u001b[37m\u001b[0m \u001b[1m2s\u001b[0m 0us/step\n"
          ]
        }
      ],
      "source": [
        "base_model = tf.keras.applications.MobileNet(weights = \"imagenet\",\n",
        "                                             include_top = False,\n",
        "                                             input_shape = input_shape)\n",
        "\n",
        "base_model.trainable = False"
      ]
    },
    {
      "cell_type": "markdown",
      "id": "laughing-comment",
      "metadata": {
        "papermill": {
          "duration": 0.017473,
          "end_time": "2021-04-01T04:07:34.039284",
          "exception": false,
          "start_time": "2021-04-01T04:07:34.021811",
          "status": "completed"
        },
        "tags": [],
        "id": "laughing-comment"
      },
      "source": [
        "We now create a small upstream model on top of the MobileNet using the functional API"
      ]
    },
    {
      "cell_type": "code",
      "execution_count": 35,
      "id": "beginning-consent",
      "metadata": {
        "execution": {
          "iopub.execute_input": "2021-04-01T04:07:34.082398Z",
          "iopub.status.busy": "2021-04-01T04:07:34.081337Z",
          "iopub.status.idle": "2021-04-01T04:07:34.261363Z",
          "shell.execute_reply": "2021-04-01T04:07:34.260757Z"
        },
        "papermill": {
          "duration": 0.204784,
          "end_time": "2021-04-01T04:07:34.261506",
          "exception": false,
          "start_time": "2021-04-01T04:07:34.056722",
          "status": "completed"
        },
        "tags": [],
        "id": "beginning-consent"
      },
      "outputs": [],
      "source": [
        "inputs = keras.Input(shape = input_shape)\n",
        "\n",
        "x = base_model(inputs, training = False)\n",
        "x = tf.keras.layers.GlobalAveragePooling2D()(x)\n",
        "x = tf.keras.layers.Dropout(0.2)(x)\n",
        "x = tf.keras.layers.Dense(len(categories),\n",
        "                          activation=\"softmax\")(x)\n",
        "\n",
        "model = keras.Model(inputs = inputs,\n",
        "                    outputs = x,\n",
        "                    name=\"LeafDisease_MobileNet\")"
      ]
    },
    {
      "cell_type": "markdown",
      "id": "significant-occupation",
      "metadata": {
        "papermill": {
          "duration": 0.017852,
          "end_time": "2021-04-01T04:07:34.297136",
          "exception": false,
          "start_time": "2021-04-01T04:07:34.279284",
          "status": "completed"
        },
        "tags": [],
        "id": "significant-occupation"
      },
      "source": [
        "In our multiple experiments we found out Adam optimizer to work really well with it's default learning rate, $\\beta_1$, $\\beta_2$ and $\\epsilon$ values"
      ]
    },
    {
      "cell_type": "code",
      "execution_count": 36,
      "id": "suspended-thong",
      "metadata": {
        "execution": {
          "iopub.execute_input": "2021-04-01T04:07:34.342978Z",
          "iopub.status.busy": "2021-04-01T04:07:34.342249Z",
          "iopub.status.idle": "2021-04-01T04:07:34.357035Z",
          "shell.execute_reply": "2021-04-01T04:07:34.356619Z"
        },
        "papermill": {
          "duration": 0.042055,
          "end_time": "2021-04-01T04:07:34.357135",
          "exception": false,
          "start_time": "2021-04-01T04:07:34.315080",
          "status": "completed"
        },
        "tags": [],
        "id": "suspended-thong"
      },
      "outputs": [],
      "source": [
        "optimizer = tf.keras.optimizers.Adam()\n",
        "\n",
        "model.compile(optimizer = optimizer,\n",
        "              loss = tf.keras.losses.CategoricalCrossentropy(from_logits = True),\n",
        "              metrics=[keras.metrics.CategoricalAccuracy(),\n",
        "                       'accuracy'])"
      ]
    },
    {
      "cell_type": "code",
      "execution_count": 37,
      "id": "prostate-iceland",
      "metadata": {
        "execution": {
          "iopub.execute_input": "2021-04-01T04:07:34.396686Z",
          "iopub.status.busy": "2021-04-01T04:07:34.396128Z",
          "iopub.status.idle": "2021-04-01T04:39:03.182665Z",
          "shell.execute_reply": "2021-04-01T04:39:03.183196Z"
        },
        "papermill": {
          "duration": 1888.808672,
          "end_time": "2021-04-01T04:39:03.183361",
          "exception": false,
          "start_time": "2021-04-01T04:07:34.374689",
          "status": "completed"
        },
        "tags": [],
        "id": "prostate-iceland",
        "outputId": "34bb43c8-aa9a-4d1c-9846-6af3ee39ac7b",
        "colab": {
          "base_uri": "https://localhost:8080/"
        }
      },
      "outputs": [
        {
          "output_type": "stream",
          "name": "stderr",
          "text": [
            "/usr/local/lib/python3.11/dist-packages/keras/src/trainers/data_adapters/py_dataset_adapter.py:121: UserWarning: Your `PyDataset` class should call `super().__init__(**kwargs)` in its constructor. `**kwargs` can include `workers`, `use_multiprocessing`, `max_queue_size`. Do not pass these arguments to `fit()`, as they will be ignored.\n",
            "  self._warn_if_super_not_called()\n"
          ]
        },
        {
          "output_type": "stream",
          "name": "stdout",
          "text": [
            "Epoch 1/25\n"
          ]
        },
        {
          "output_type": "stream",
          "name": "stderr",
          "text": [
            "/usr/local/lib/python3.11/dist-packages/keras/src/backend/tensorflow/nn.py:666: UserWarning: \"`categorical_crossentropy` received `from_logits=True`, but the `output` argument was produced by a Softmax activation and thus does not represent logits. Was this intended?\n",
            "  output, from_logits = _get_logits(\n"
          ]
        },
        {
          "output_type": "stream",
          "name": "stdout",
          "text": [
            "\u001b[1m150/150\u001b[0m \u001b[32m━━━━━━━━━━━━━━━━━━━━\u001b[0m\u001b[37m\u001b[0m \u001b[1m73s\u001b[0m 436ms/step - accuracy: 0.2699 - categorical_accuracy: 0.2699 - loss: 2.8749 - val_accuracy: 0.8213 - val_categorical_accuracy: 0.8213 - val_loss: 0.7667\n",
            "Epoch 2/25\n",
            "\u001b[1m150/150\u001b[0m \u001b[32m━━━━━━━━━━━━━━━━━━━━\u001b[0m\u001b[37m\u001b[0m \u001b[1m62s\u001b[0m 415ms/step - accuracy: 0.7657 - categorical_accuracy: 0.7657 - loss: 0.8540 - val_accuracy: 0.8769 - val_categorical_accuracy: 0.8769 - val_loss: 0.4736\n",
            "Epoch 3/25\n",
            "\u001b[1m150/150\u001b[0m \u001b[32m━━━━━━━━━━━━━━━━━━━━\u001b[0m\u001b[37m\u001b[0m \u001b[1m59s\u001b[0m 398ms/step - accuracy: 0.8475 - categorical_accuracy: 0.8475 - loss: 0.5533 - val_accuracy: 0.8841 - val_categorical_accuracy: 0.8841 - val_loss: 0.4183\n",
            "Epoch 4/25\n",
            "\u001b[1m150/150\u001b[0m \u001b[32m━━━━━━━━━━━━━━━━━━━━\u001b[0m\u001b[37m\u001b[0m \u001b[1m58s\u001b[0m 388ms/step - accuracy: 0.8645 - categorical_accuracy: 0.8645 - loss: 0.4741 - val_accuracy: 0.8975 - val_categorical_accuracy: 0.8975 - val_loss: 0.3440\n",
            "Epoch 5/25\n",
            "\u001b[1m150/150\u001b[0m \u001b[32m━━━━━━━━━━━━━━━━━━━━\u001b[0m\u001b[37m\u001b[0m \u001b[1m56s\u001b[0m 377ms/step - accuracy: 0.8747 - categorical_accuracy: 0.8747 - loss: 0.4369 - val_accuracy: 0.9237 - val_categorical_accuracy: 0.9237 - val_loss: 0.2812\n",
            "Epoch 6/25\n",
            "\u001b[1m150/150\u001b[0m \u001b[32m━━━━━━━━━━━━━━━━━━━━\u001b[0m\u001b[37m\u001b[0m \u001b[1m56s\u001b[0m 373ms/step - accuracy: 0.8887 - categorical_accuracy: 0.8887 - loss: 0.3687 - val_accuracy: 0.9191 - val_categorical_accuracy: 0.9191 - val_loss: 0.2646\n",
            "Epoch 7/25\n",
            "\u001b[1m150/150\u001b[0m \u001b[32m━━━━━━━━━━━━━━━━━━━━\u001b[0m\u001b[37m\u001b[0m \u001b[1m58s\u001b[0m 391ms/step - accuracy: 0.8941 - categorical_accuracy: 0.8941 - loss: 0.3495 - val_accuracy: 0.9178 - val_categorical_accuracy: 0.9178 - val_loss: 0.2623\n",
            "Epoch 8/25\n",
            "\u001b[1m150/150\u001b[0m \u001b[32m━━━━━━━━━━━━━━━━━━━━\u001b[0m\u001b[37m\u001b[0m \u001b[1m60s\u001b[0m 405ms/step - accuracy: 0.8908 - categorical_accuracy: 0.8908 - loss: 0.3347 - val_accuracy: 0.9281 - val_categorical_accuracy: 0.9281 - val_loss: 0.2331\n",
            "Epoch 9/25\n",
            "\u001b[1m150/150\u001b[0m \u001b[32m━━━━━━━━━━━━━━━━━━━━\u001b[0m\u001b[37m\u001b[0m \u001b[1m61s\u001b[0m 406ms/step - accuracy: 0.9019 - categorical_accuracy: 0.9019 - loss: 0.3192 - val_accuracy: 0.9322 - val_categorical_accuracy: 0.9322 - val_loss: 0.2207\n",
            "Epoch 10/25\n",
            "\u001b[1m150/150\u001b[0m \u001b[32m━━━━━━━━━━━━━━━━━━━━\u001b[0m\u001b[37m\u001b[0m \u001b[1m60s\u001b[0m 405ms/step - accuracy: 0.9149 - categorical_accuracy: 0.9149 - loss: 0.2751 - val_accuracy: 0.9319 - val_categorical_accuracy: 0.9319 - val_loss: 0.2060\n",
            "Epoch 11/25\n",
            "\u001b[1m150/150\u001b[0m \u001b[32m━━━━━━━━━━━━━━━━━━━━\u001b[0m\u001b[37m\u001b[0m \u001b[1m61s\u001b[0m 408ms/step - accuracy: 0.9154 - categorical_accuracy: 0.9154 - loss: 0.2654 - val_accuracy: 0.9359 - val_categorical_accuracy: 0.9359 - val_loss: 0.2072\n",
            "Epoch 12/25\n",
            "\u001b[1m150/150\u001b[0m \u001b[32m━━━━━━━━━━━━━━━━━━━━\u001b[0m\u001b[37m\u001b[0m \u001b[1m61s\u001b[0m 409ms/step - accuracy: 0.9235 - categorical_accuracy: 0.9235 - loss: 0.2651 - val_accuracy: 0.9384 - val_categorical_accuracy: 0.9384 - val_loss: 0.1815\n",
            "Epoch 13/25\n",
            "\u001b[1m150/150\u001b[0m \u001b[32m━━━━━━━━━━━━━━━━━━━━\u001b[0m\u001b[37m\u001b[0m \u001b[1m60s\u001b[0m 405ms/step - accuracy: 0.9185 - categorical_accuracy: 0.9185 - loss: 0.2563 - val_accuracy: 0.9347 - val_categorical_accuracy: 0.9347 - val_loss: 0.1931\n",
            "Epoch 14/25\n",
            "\u001b[1m150/150\u001b[0m \u001b[32m━━━━━━━━━━━━━━━━━━━━\u001b[0m\u001b[37m\u001b[0m \u001b[1m60s\u001b[0m 404ms/step - accuracy: 0.9167 - categorical_accuracy: 0.9167 - loss: 0.2493 - val_accuracy: 0.9341 - val_categorical_accuracy: 0.9341 - val_loss: 0.2086\n",
            "Epoch 15/25\n",
            "\u001b[1m 97/150\u001b[0m \u001b[32m━━━━━━━━━━━━\u001b[0m\u001b[37m━━━━━━━━\u001b[0m \u001b[1m18s\u001b[0m 351ms/step - accuracy: 0.9326 - categorical_accuracy: 0.9326 - loss: 0.2160"
          ]
        },
        {
          "output_type": "stream",
          "name": "stderr",
          "text": [
            "/usr/local/lib/python3.11/dist-packages/keras/src/trainers/epoch_iterator.py:107: UserWarning: Your input ran out of data; interrupting training. Make sure that your dataset or generator can generate at least `steps_per_epoch * epochs` batches. You may need to use the `.repeat()` function when building your dataset.\n",
            "  self._interrupted_warning()\n"
          ]
        },
        {
          "output_type": "stream",
          "name": "stdout",
          "text": [
            "\b\b\b\b\b\b\b\b\b\b\b\b\b\b\b\b\b\b\b\b\b\b\b\b\b\b\b\b\b\b\b\b\b\b\b\b\b\b\b\b\b\b\b\b\b\b\b\b\b\b\b\b\b\b\b\b\b\b\b\b\b\b\b\b\b\b\b\b\b\b\b\b\b\b\b\b\b\b\b\b\b\b\b\b\b\b\b\b\b\b\b\b\b\b\b\b\b\b\b\b\b\b\b\b\b\b\b\b\r\u001b[1m150/150\u001b[0m \u001b[32m━━━━━━━━━━━━━━━━━━━━\u001b[0m\u001b[37m\u001b[0m \u001b[1m38s\u001b[0m 258ms/step - accuracy: 0.9309 - categorical_accuracy: 0.9309 - loss: 0.2222 - val_accuracy: 0.9316 - val_categorical_accuracy: 0.9316 - val_loss: 0.2056\n",
            "Epoch 16/25\n",
            "\u001b[1m150/150\u001b[0m \u001b[32m━━━━━━━━━━━━━━━━━━━━\u001b[0m\u001b[37m\u001b[0m \u001b[1m63s\u001b[0m 419ms/step - accuracy: 0.9264 - categorical_accuracy: 0.9264 - loss: 0.2345 - val_accuracy: 0.9406 - val_categorical_accuracy: 0.9406 - val_loss: 0.1761\n",
            "Epoch 17/25\n",
            "\u001b[1m150/150\u001b[0m \u001b[32m━━━━━━━━━━━━━━━━━━━━\u001b[0m\u001b[37m\u001b[0m \u001b[1m63s\u001b[0m 423ms/step - accuracy: 0.9234 - categorical_accuracy: 0.9234 - loss: 0.2548 - val_accuracy: 0.9447 - val_categorical_accuracy: 0.9447 - val_loss: 0.1622\n",
            "Epoch 18/25\n",
            "\u001b[1m150/150\u001b[0m \u001b[32m━━━━━━━━━━━━━━━━━━━━\u001b[0m\u001b[37m\u001b[0m \u001b[1m62s\u001b[0m 418ms/step - accuracy: 0.9362 - categorical_accuracy: 0.9362 - loss: 0.2203 - val_accuracy: 0.9447 - val_categorical_accuracy: 0.9447 - val_loss: 0.1641\n",
            "Epoch 19/25\n",
            "\u001b[1m150/150\u001b[0m \u001b[32m━━━━━━━━━━━━━━━━━━━━\u001b[0m\u001b[37m\u001b[0m \u001b[1m60s\u001b[0m 402ms/step - accuracy: 0.9260 - categorical_accuracy: 0.9260 - loss: 0.2188 - val_accuracy: 0.9428 - val_categorical_accuracy: 0.9428 - val_loss: 0.1710\n",
            "Epoch 20/25\n",
            "\u001b[1m150/150\u001b[0m \u001b[32m━━━━━━━━━━━━━━━━━━━━\u001b[0m\u001b[37m\u001b[0m \u001b[1m59s\u001b[0m 397ms/step - accuracy: 0.9315 - categorical_accuracy: 0.9315 - loss: 0.2135 - val_accuracy: 0.9450 - val_categorical_accuracy: 0.9450 - val_loss: 0.1598\n",
            "Epoch 21/25\n",
            "\u001b[1m150/150\u001b[0m \u001b[32m━━━━━━━━━━━━━━━━━━━━\u001b[0m\u001b[37m\u001b[0m \u001b[1m59s\u001b[0m 398ms/step - accuracy: 0.9240 - categorical_accuracy: 0.9240 - loss: 0.2287 - val_accuracy: 0.9416 - val_categorical_accuracy: 0.9416 - val_loss: 0.1759\n",
            "Epoch 22/25\n",
            "\u001b[1m150/150\u001b[0m \u001b[32m━━━━━━━━━━━━━━━━━━━━\u001b[0m\u001b[37m\u001b[0m \u001b[1m57s\u001b[0m 385ms/step - accuracy: 0.9344 - categorical_accuracy: 0.9344 - loss: 0.1988 - val_accuracy: 0.9441 - val_categorical_accuracy: 0.9441 - val_loss: 0.1786\n",
            "Epoch 23/25\n",
            "\u001b[1m150/150\u001b[0m \u001b[32m━━━━━━━━━━━━━━━━━━━━\u001b[0m\u001b[37m\u001b[0m \u001b[1m58s\u001b[0m 392ms/step - accuracy: 0.9318 - categorical_accuracy: 0.9318 - loss: 0.1921 - val_accuracy: 0.9447 - val_categorical_accuracy: 0.9447 - val_loss: 0.1722\n",
            "Epoch 24/25\n",
            "\u001b[1m150/150\u001b[0m \u001b[32m━━━━━━━━━━━━━━━━━━━━\u001b[0m\u001b[37m\u001b[0m \u001b[1m58s\u001b[0m 389ms/step - accuracy: 0.9270 - categorical_accuracy: 0.9270 - loss: 0.2220 - val_accuracy: 0.9544 - val_categorical_accuracy: 0.9544 - val_loss: 0.1452\n",
            "Epoch 25/25\n",
            "\u001b[1m150/150\u001b[0m \u001b[32m━━━━━━━━━━━━━━━━━━━━\u001b[0m\u001b[37m\u001b[0m \u001b[1m60s\u001b[0m 401ms/step - accuracy: 0.9285 - categorical_accuracy: 0.9285 - loss: 0.2085 - val_accuracy: 0.9484 - val_categorical_accuracy: 0.9484 - val_loss: 0.1504\n"
          ]
        }
      ],
      "source": [
        "history = model.fit(train_data,\n",
        "                    validation_data=test_data,\n",
        "                    epochs=epochs,\n",
        "                    steps_per_epoch=150,\n",
        "                    validation_steps=100)"
      ]
    },
    {
      "cell_type": "markdown",
      "id": "above-queue",
      "metadata": {
        "papermill": {
          "duration": 1.014709,
          "end_time": "2021-04-01T04:39:05.211508",
          "exception": false,
          "start_time": "2021-04-01T04:39:04.196799",
          "status": "completed"
        },
        "tags": [],
        "id": "above-queue"
      },
      "source": [
        "## Review the training process"
      ]
    },
    {
      "cell_type": "code",
      "execution_count": 38,
      "id": "later-spectrum",
      "metadata": {
        "execution": {
          "iopub.execute_input": "2021-04-01T04:39:07.585157Z",
          "iopub.status.busy": "2021-04-01T04:39:07.584228Z",
          "iopub.status.idle": "2021-04-01T04:39:07.733926Z",
          "shell.execute_reply": "2021-04-01T04:39:07.734336Z"
        },
        "papermill": {
          "duration": 1.17997,
          "end_time": "2021-04-01T04:39:07.734498",
          "exception": false,
          "start_time": "2021-04-01T04:39:06.554528",
          "status": "completed"
        },
        "tags": [],
        "id": "later-spectrum",
        "outputId": "9c712375-3892-4daf-f625-7140e5f87bd6",
        "colab": {
          "base_uri": "https://localhost:8080/",
          "height": 559
        }
      },
      "outputs": [
        {
          "output_type": "execute_result",
          "data": {
            "text/plain": [
              "<matplotlib.legend.Legend at 0x788be42ea490>"
            ]
          },
          "metadata": {},
          "execution_count": 38
        },
        {
          "output_type": "display_data",
          "data": {
            "text/plain": [
              "<Figure size 1000x600 with 1 Axes>"
            ],
            "image/png": "[encoded data removed]"
          },
          "metadata": {}
        }
      ],
      "source": [
        "loss = history.history['loss']\n",
        "val_loss = history.history['val_loss']\n",
        "\n",
        "epochs = range(len(loss))\n",
        "\n",
        "fig = plt.figure(figsize=(10,6))\n",
        "plt.plot(epochs,loss,c=\"red\",label=\"Training\")\n",
        "plt.plot(epochs,val_loss,c=\"blue\",label=\"Validation\")\n",
        "plt.xlabel(\"Epochs\")\n",
        "plt.ylabel(\"Loss\")\n",
        "plt.legend()"
      ]
    },
    {
      "cell_type": "code",
      "execution_count": 39,
      "id": "dutch-wells",
      "metadata": {
        "execution": {
          "iopub.execute_input": "2021-04-01T04:39:09.758242Z",
          "iopub.status.busy": "2021-04-01T04:39:09.745156Z",
          "iopub.status.idle": "2021-04-01T04:39:09.887262Z",
          "shell.execute_reply": "2021-04-01T04:39:09.887678Z"
        },
        "papermill": {
          "duration": 1.156126,
          "end_time": "2021-04-01T04:39:09.887822",
          "exception": false,
          "start_time": "2021-04-01T04:39:08.731696",
          "status": "completed"
        },
        "tags": [],
        "id": "dutch-wells",
        "outputId": "05ec0c56-f236-4916-ebbd-135b95a539c0",
        "colab": {
          "base_uri": "https://localhost:8080/",
          "height": 559
        }
      },
      "outputs": [
        {
          "output_type": "execute_result",
          "data": {
            "text/plain": [
              "<matplotlib.legend.Legend at 0x788c0829cc10>"
            ]
          },
          "metadata": {},
          "execution_count": 39
        },
        {
          "output_type": "display_data",
          "data": {
            "text/plain": [
              "<Figure size 1000x600 with 1 Axes>"
            ],
            "image/png": "[encoded data removed]"
          },
          "metadata": {}
        }
      ],
      "source": [
        "acc = history.history['categorical_accuracy']\n",
        "val_acc = history.history['val_categorical_accuracy']\n",
        "\n",
        "epochs = range(len(acc))\n",
        "\n",
        "fig = plt.figure(figsize=(10,6))\n",
        "plt.plot(epochs,acc,c=\"red\",label=\"Training\")\n",
        "plt.plot(epochs,val_acc,c=\"blue\",label=\"Validation\")\n",
        "plt.xlabel(\"Epochs\")\n",
        "plt.ylabel(\"Accuracy\")\n",
        "plt.legend()"
      ]
    },
    {
      "cell_type": "markdown",
      "id": "italian-slide",
      "metadata": {
        "papermill": {
          "duration": 0.999562,
          "end_time": "2021-04-01T04:39:11.880888",
          "exception": false,
          "start_time": "2021-04-01T04:39:10.881326",
          "status": "completed"
        },
        "tags": [],
        "id": "italian-slide"
      },
      "source": [
        "## Save the model\n",
        "\n",
        "We finally save the model in the standard TensorFlow 2 SavedModel format."
      ]
    },
    {
      "cell_type": "code",
      "execution_count": 45,
      "id": "perceived-license",
      "metadata": {
        "execution": {
          "iopub.execute_input": "2021-04-01T04:39:13.922335Z",
          "iopub.status.busy": "2021-04-01T04:39:13.921321Z",
          "iopub.status.idle": "2021-04-01T04:39:26.632303Z",
          "shell.execute_reply": "2021-04-01T04:39:26.629156Z"
        },
        "papermill": {
          "duration": 13.750988,
          "end_time": "2021-04-01T04:39:26.632446",
          "exception": false,
          "start_time": "2021-04-01T04:39:12.881458",
          "status": "completed"
        },
        "tags": [],
        "id": "perceived-license",
        "outputId": "04112d39-ac4d-430b-da39-ccefb54c123d",
        "colab": {
          "base_uri": "https://localhost:8080/"
        }
      },
      "outputs": [
        {
          "output_type": "stream",
          "name": "stdout",
          "text": [
            "Saved artifact at '/tmp/tmpzpah4f3f'. The following endpoints are available:\n",
            "\n",
            "* Endpoint 'serve'\n",
            "  args_0 (POSITIONAL_ONLY): TensorSpec(shape=(None, 224, 224, 3), dtype=tf.float32, name='keras_tensor_86')\n",
            "Output Type:\n",
            "  TensorSpec(shape=(None, 38), dtype=tf.float32, name=None)\n",
            "Captures:\n",
            "  132542999423184: TensorSpec(shape=(), dtype=tf.resource, name=None)\n",
            "  132542890494480: TensorSpec(shape=(), dtype=tf.resource, name=None)\n",
            "  132542890494864: TensorSpec(shape=(), dtype=tf.resource, name=None)\n",
            "  132542890392656: TensorSpec(shape=(), dtype=tf.resource, name=None)\n",
            "  132542890393424: TensorSpec(shape=(), dtype=tf.resource, name=None)\n",
            "  132542990647952: TensorSpec(shape=(), dtype=tf.resource, name=None)\n",
            "  132542890494096: TensorSpec(shape=(), dtype=tf.resource, name=None)\n",
            "  132542890493328: TensorSpec(shape=(), dtype=tf.resource, name=None)\n",
            "  132542890495248: TensorSpec(shape=(), dtype=tf.resource, name=None)\n",
            "  132542890495056: TensorSpec(shape=(), dtype=tf.resource, name=None)\n",
            "  132542890495632: TensorSpec(shape=(), dtype=tf.resource, name=None)\n",
            "  132542890497168: TensorSpec(shape=(), dtype=tf.resource, name=None)\n",
            "  132542890493904: TensorSpec(shape=(), dtype=tf.resource, name=None)\n",
            "  132542890494288: TensorSpec(shape=(), dtype=tf.resource, name=None)\n",
            "  132542890496208: TensorSpec(shape=(), dtype=tf.resource, name=None)\n",
            "  132542890499856: TensorSpec(shape=(), dtype=tf.resource, name=None)\n",
            "  132542890501200: TensorSpec(shape=(), dtype=tf.resource, name=None)\n",
            "  132542890501584: TensorSpec(shape=(), dtype=tf.resource, name=None)\n",
            "  132542890501392: TensorSpec(shape=(), dtype=tf.resource, name=None)\n",
            "  132542890500048: TensorSpec(shape=(), dtype=tf.resource, name=None)\n",
            "  132542890502736: TensorSpec(shape=(), dtype=tf.resource, name=None)\n",
            "  132542890502352: TensorSpec(shape=(), dtype=tf.resource, name=None)\n",
            "  132542890501968: TensorSpec(shape=(), dtype=tf.resource, name=None)\n",
            "  132542890502928: TensorSpec(shape=(), dtype=tf.resource, name=None)\n",
            "  132542890500816: TensorSpec(shape=(), dtype=tf.resource, name=None)\n",
            "  132542890505040: TensorSpec(shape=(), dtype=tf.resource, name=None)\n",
            "  132542890506576: TensorSpec(shape=(), dtype=tf.resource, name=None)\n",
            "  132542890508112: TensorSpec(shape=(), dtype=tf.resource, name=None)\n",
            "  132542890505616: TensorSpec(shape=(), dtype=tf.resource, name=None)\n",
            "  132542890500432: TensorSpec(shape=(), dtype=tf.resource, name=None)\n",
            "  132542890507728: TensorSpec(shape=(), dtype=tf.resource, name=None)\n",
            "  132542890504656: TensorSpec(shape=(), dtype=tf.resource, name=None)\n",
            "  132542890506192: TensorSpec(shape=(), dtype=tf.resource, name=None)\n",
            "  132542890503888: TensorSpec(shape=(), dtype=tf.resource, name=None)\n",
            "  132542890507344: TensorSpec(shape=(), dtype=tf.resource, name=None)\n",
            "  132542890504272: TensorSpec(shape=(), dtype=tf.resource, name=None)\n",
            "  132542890935312: TensorSpec(shape=(), dtype=tf.resource, name=None)\n",
            "  132542890934352: TensorSpec(shape=(), dtype=tf.resource, name=None)\n",
            "  132542890507920: TensorSpec(shape=(), dtype=tf.resource, name=None)\n",
            "  132542890934544: TensorSpec(shape=(), dtype=tf.resource, name=None)\n",
            "  132542890934736: TensorSpec(shape=(), dtype=tf.resource, name=None)\n",
            "  132542890937424: TensorSpec(shape=(), dtype=tf.resource, name=None)\n",
            "  132542890937808: TensorSpec(shape=(), dtype=tf.resource, name=None)\n",
            "  132542890937616: TensorSpec(shape=(), dtype=tf.resource, name=None)\n",
            "  132542890934928: TensorSpec(shape=(), dtype=tf.resource, name=None)\n",
            "  132542890936464: TensorSpec(shape=(), dtype=tf.resource, name=None)\n",
            "  132542890939536: TensorSpec(shape=(), dtype=tf.resource, name=None)\n",
            "  132542890939920: TensorSpec(shape=(), dtype=tf.resource, name=None)\n",
            "  132542890939728: TensorSpec(shape=(), dtype=tf.resource, name=None)\n",
            "  132542890936848: TensorSpec(shape=(), dtype=tf.resource, name=None)\n",
            "  132542890941072: TensorSpec(shape=(), dtype=tf.resource, name=None)\n",
            "  132542890941456: TensorSpec(shape=(), dtype=tf.resource, name=None)\n",
            "  132542890941840: TensorSpec(shape=(), dtype=tf.resource, name=None)\n",
            "  132542890941648: TensorSpec(shape=(), dtype=tf.resource, name=None)\n",
            "  132542890938576: TensorSpec(shape=(), dtype=tf.resource, name=None)\n",
            "  132542890942992: TensorSpec(shape=(), dtype=tf.resource, name=None)\n",
            "  132542890943376: TensorSpec(shape=(), dtype=tf.resource, name=None)\n",
            "  132542890943760: TensorSpec(shape=(), dtype=tf.resource, name=None)\n",
            "  132542890943568: TensorSpec(shape=(), dtype=tf.resource, name=None)\n",
            "  132542890939152: TensorSpec(shape=(), dtype=tf.resource, name=None)\n",
            "  132542890944912: TensorSpec(shape=(), dtype=tf.resource, name=None)\n",
            "  132542890945296: TensorSpec(shape=(), dtype=tf.resource, name=None)\n",
            "  132542890945680: TensorSpec(shape=(), dtype=tf.resource, name=None)\n",
            "  132542890945488: TensorSpec(shape=(), dtype=tf.resource, name=None)\n",
            "  132542890940688: TensorSpec(shape=(), dtype=tf.resource, name=None)\n",
            "  132542890946832: TensorSpec(shape=(), dtype=tf.resource, name=None)\n",
            "  132542890947216: TensorSpec(shape=(), dtype=tf.resource, name=None)\n",
            "  132542890947600: TensorSpec(shape=(), dtype=tf.resource, name=None)\n",
            "  132542890947408: TensorSpec(shape=(), dtype=tf.resource, name=None)\n",
            "  132542890942608: TensorSpec(shape=(), dtype=tf.resource, name=None)\n",
            "  132542890948752: TensorSpec(shape=(), dtype=tf.resource, name=None)\n",
            "  132542890949136: TensorSpec(shape=(), dtype=tf.resource, name=None)\n",
            "  132542890949520: TensorSpec(shape=(), dtype=tf.resource, name=None)\n",
            "  132542890949328: TensorSpec(shape=(), dtype=tf.resource, name=None)\n",
            "  132542890944528: TensorSpec(shape=(), dtype=tf.resource, name=None)\n",
            "  132542890946448: TensorSpec(shape=(), dtype=tf.resource, name=None)\n",
            "  132542884676048: TensorSpec(shape=(), dtype=tf.resource, name=None)\n",
            "  132542884676624: TensorSpec(shape=(), dtype=tf.resource, name=None)\n",
            "  132542890948368: TensorSpec(shape=(), dtype=tf.resource, name=None)\n",
            "  132542890947984: TensorSpec(shape=(), dtype=tf.resource, name=None)\n",
            "  132542884677584: TensorSpec(shape=(), dtype=tf.resource, name=None)\n",
            "  132542884677968: TensorSpec(shape=(), dtype=tf.resource, name=None)\n",
            "  132542884678352: TensorSpec(shape=(), dtype=tf.resource, name=None)\n",
            "  132542884678160: TensorSpec(shape=(), dtype=tf.resource, name=None)\n",
            "  132542884676816: TensorSpec(shape=(), dtype=tf.resource, name=None)\n",
            "  132542884679504: TensorSpec(shape=(), dtype=tf.resource, name=None)\n",
            "  132542884679888: TensorSpec(shape=(), dtype=tf.resource, name=None)\n",
            "  132542884680272: TensorSpec(shape=(), dtype=tf.resource, name=None)\n",
            "  132542884680080: TensorSpec(shape=(), dtype=tf.resource, name=None)\n",
            "  132542884676240: TensorSpec(shape=(), dtype=tf.resource, name=None)\n",
            "  132542884681424: TensorSpec(shape=(), dtype=tf.resource, name=None)\n",
            "  132542884681808: TensorSpec(shape=(), dtype=tf.resource, name=None)\n",
            "  132542884682192: TensorSpec(shape=(), dtype=tf.resource, name=None)\n",
            "  132542884682000: TensorSpec(shape=(), dtype=tf.resource, name=None)\n",
            "  132542884677200: TensorSpec(shape=(), dtype=tf.resource, name=None)\n",
            "  132542884683344: TensorSpec(shape=(), dtype=tf.resource, name=None)\n",
            "  132542884683728: TensorSpec(shape=(), dtype=tf.resource, name=None)\n",
            "  132542884684112: TensorSpec(shape=(), dtype=tf.resource, name=None)\n",
            "  132542884683920: TensorSpec(shape=(), dtype=tf.resource, name=None)\n",
            "  132542884679120: TensorSpec(shape=(), dtype=tf.resource, name=None)\n",
            "  132542884685264: TensorSpec(shape=(), dtype=tf.resource, name=None)\n",
            "  132542884685648: TensorSpec(shape=(), dtype=tf.resource, name=None)\n",
            "  132542884686032: TensorSpec(shape=(), dtype=tf.resource, name=None)\n",
            "  132542884685840: TensorSpec(shape=(), dtype=tf.resource, name=None)\n",
            "  132542884681040: TensorSpec(shape=(), dtype=tf.resource, name=None)\n",
            "  132542884687184: TensorSpec(shape=(), dtype=tf.resource, name=None)\n",
            "  132542884687568: TensorSpec(shape=(), dtype=tf.resource, name=None)\n",
            "  132542884687952: TensorSpec(shape=(), dtype=tf.resource, name=None)\n",
            "  132542884687760: TensorSpec(shape=(), dtype=tf.resource, name=None)\n",
            "  132542884682960: TensorSpec(shape=(), dtype=tf.resource, name=None)\n",
            "  132542884689104: TensorSpec(shape=(), dtype=tf.resource, name=None)\n",
            "  132542884689488: TensorSpec(shape=(), dtype=tf.resource, name=None)\n",
            "  132542884689872: TensorSpec(shape=(), dtype=tf.resource, name=None)\n",
            "  132542884689680: TensorSpec(shape=(), dtype=tf.resource, name=None)\n",
            "  132542884684880: TensorSpec(shape=(), dtype=tf.resource, name=None)\n",
            "  132542884691024: TensorSpec(shape=(), dtype=tf.resource, name=None)\n",
            "  132542884690640: TensorSpec(shape=(), dtype=tf.resource, name=None)\n",
            "  132542884690256: TensorSpec(shape=(), dtype=tf.resource, name=None)\n",
            "  132542884691600: TensorSpec(shape=(), dtype=tf.resource, name=None)\n",
            "  132542884686800: TensorSpec(shape=(), dtype=tf.resource, name=None)\n",
            "  132542884688720: TensorSpec(shape=(), dtype=tf.resource, name=None)\n",
            "  132542885053840: TensorSpec(shape=(), dtype=tf.resource, name=None)\n",
            "  132542885052880: TensorSpec(shape=(), dtype=tf.resource, name=None)\n",
            "  132542885053648: TensorSpec(shape=(), dtype=tf.resource, name=None)\n",
            "  132542885052688: TensorSpec(shape=(), dtype=tf.resource, name=None)\n",
            "  132542885055376: TensorSpec(shape=(), dtype=tf.resource, name=None)\n",
            "  132542885055760: TensorSpec(shape=(), dtype=tf.resource, name=None)\n",
            "  132542885056144: TensorSpec(shape=(), dtype=tf.resource, name=None)\n",
            "  132542885055952: TensorSpec(shape=(), dtype=tf.resource, name=None)\n",
            "  132542885053072: TensorSpec(shape=(), dtype=tf.resource, name=None)\n",
            "  132542885057296: TensorSpec(shape=(), dtype=tf.resource, name=None)\n",
            "  132542885057680: TensorSpec(shape=(), dtype=tf.resource, name=None)\n",
            "  132542885058064: TensorSpec(shape=(), dtype=tf.resource, name=None)\n",
            "  132542885057872: TensorSpec(shape=(), dtype=tf.resource, name=None)\n",
            "  132542885054224: TensorSpec(shape=(), dtype=tf.resource, name=None)\n",
            "  132542885059408: TensorSpec(shape=(), dtype=tf.resource, name=None)\n",
            "  132542885060944: TensorSpec(shape=(), dtype=tf.resource, name=None)\n",
            "✅ Exported gospodapp_model.tflite\n"
          ]
        }
      ],
      "source": [
        "# Save in modern format (optional, for future editing)\n",
        "model.save(\"gospodapp.keras\")  # Not required for Android, but nice to have\n",
        "\n",
        "# Convert to TFLite\n",
        "import tensorflow as tf\n",
        "\n",
        "converter = tf.lite.TFLiteConverter.from_keras_model(model)\n",
        "converter.optimizations = [tf.lite.Optimize.DEFAULT]  # Dynamic range quantization\n",
        "tflite_model = converter.convert()\n",
        "\n",
        "# Save to .tflite\n",
        "with open(\"gospodapp_model.tflite\", \"wb\") as f:\n",
        "    f.write(tflite_model)\n",
        "\n",
        "print(\"✅ Exported gospodapp_model.tflite\")\n"
      ]
    },
    {
      "cell_type": "code",
      "source": [
        "from google.colab import files\n",
        "files.download(\"gospodapp_model.tflite\")\n"
      ],
      "metadata": {
        "id": "t9U6R5kkJeNt",
        "outputId": "c8874bd0-c263-4073-a499-efd0dcc36193",
        "colab": {
          "base_uri": "https://localhost:8080/",
          "height": 17
        }
      },
      "id": "t9U6R5kkJeNt",
      "execution_count": 46,
      "outputs": [
        {
          "output_type": "display_data",
          "data": {
            "text/plain": [
              "<IPython.core.display.Javascript object>"
            ],
            "application/javascript": [
              "\n",
              "    async function download(id, filename, size) {\n",
              "      if (!google.colab.kernel.accessAllowed) {\n",
              "        return;\n",
              "      }\n",
              "      const div = document.createElement('div');\n",
              "      const label = document.createElement('label');\n",
              "      label.textContent = `Downloading \"${filename}\": `;\n",
              "      div.appendChild(label);\n",
              "      const progress = document.createElement('progress');\n",
              "      progress.max = size;\n",
              "      div.appendChild(progress);\n",
              "      document.body.appendChild(div);\n",
              "\n",
              "      const buffers = [];\n",
              "      let downloaded = 0;\n",
              "\n",
              "      const channel = await google.colab.kernel.comms.open(id);\n",
              "      // Send a message to notify the kernel that we're ready.\n",
              "      channel.send({})\n",
              "\n",
              "      for await (const message of channel.messages) {\n",
              "        // Send a message to notify the kernel that we're ready.\n",
              "        channel.send({})\n",
              "        if (message.buffers) {\n",
              "          for (const buffer of message.buffers) {\n",
              "            buffers.push(buffer);\n",
              "            downloaded += buffer.byteLength;\n",
              "            progress.value = downloaded;\n",
              "          }\n",
              "        }\n",
              "      }\n",
              "      const blob = new Blob(buffers, {type: 'application/binary'});\n",
              "      const a = document.createElement('a');\n",
              "      a.href = window.URL.createObjectURL(blob);\n",
              "      a.download = filename;\n",
              "      div.appendChild(a);\n",
              "      a.click();\n",
              "      div.remove();\n",
              "    }\n",
              "  "
            ]
          },
          "metadata": {}
        },
        {
          "output_type": "display_data",
          "data": {
            "text/plain": [
              "<IPython.core.display.Javascript object>"
            ],
            "application/javascript": [
              "download(\"download_1d18807d-1de5-486d-b014-f0f32eb9d4cd\", \"gospodapp_model.tflite\", 3421592)"
            ]
          },
          "metadata": {}
        }
      ]
    }
  ],
  "metadata": {
    "kernelspec": {
      "name": "python383jvsc74a57bd08647313069c6ea5cecc84d2edb133d9fafa3a514e123028a63a185c167c73d26",
      "display_name": "Python 3.8.3 64-bit (conda)"
    },
    "language_info": {
      "codemirror_mode": {
        "name": "ipython",
        "version": 3
      },
      "file_extension": ".py",
      "mimetype": "text/x-python",
      "name": "python",
      "nbconvert_exporter": "python",
      "pygments_lexer": "ipython3",
      "version": "3.8.3-final"
    },
    "papermill": {
      "default_parameters": {},
      "duration": 1948.674865,
      "end_time": "2021-04-01T04:39:30.668763",
      "environment_variables": {},
      "exception": null,
      "input_path": "__notebook__.ipynb",
      "output_path": "__notebook__.ipynb",
      "parameters": {},
      "start_time": "2021-04-01T04:07:01.993898",
      "version": "2.3.2"
    },
    "colab": {
      "provenance": [],
      "machine_shape": "hm",
      "gpuType": "T4"
    },
    "accelerator": "GPU"
  },
  "nbformat": 4,
  "nbformat_minor": 5
}